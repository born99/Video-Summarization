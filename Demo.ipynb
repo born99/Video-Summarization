{
  "cells": [
    {
      "cell_type": "markdown",
      "metadata": {
        "id": "view-in-github",
        "colab_type": "text"
      },
      "source": [
        "<a href=\"https://colab.research.google.com/github/born99/Video-Summarization/blob/master/Demo.ipynb\" target=\"_parent\"><img src=\"https://colab.research.google.com/assets/colab-badge.svg\" alt=\"Open In Colab\"/></a>"
      ]
    },
    {
      "cell_type": "code",
      "source": [
        "from google.colab import drive \n",
        "drive.mount('/content/drive')"
      ],
      "metadata": {
        "id": "ahOvHbSqiuPB",
        "outputId": "f629afbf-9325-4a56-c864-a34dc6f7c805",
        "colab": {
          "base_uri": "https://localhost:8080/"
        }
      },
      "execution_count": 2,
      "outputs": [
        {
          "output_type": "stream",
          "name": "stdout",
          "text": [
            "Mounted at /content/drive\n"
          ]
        }
      ]
    },
    {
      "cell_type": "code",
      "source": [
        "!pwd\n",
        "import os\n",
        "os.chdir('/content/drive/My Drive/Video-Summarization')\n",
        "\n",
        "!pip install chainer"
      ],
      "metadata": {
        "id": "EbMf_rt1lKln",
        "outputId": "dcb606c7-fdc4-48bf-bf57-f121a12029a3",
        "colab": {
          "base_uri": "https://localhost:8080/"
        }
      },
      "execution_count": 6,
      "outputs": [
        {
          "output_type": "stream",
          "name": "stdout",
          "text": [
            "/content/drive/My Drive/Video-Summarization\n",
            "Collecting chainer\n",
            "  Downloading chainer-7.8.1.tar.gz (1.0 MB)\n",
            "\u001b[K     |████████████████████████████████| 1.0 MB 4.3 MB/s \n",
            "\u001b[?25hRequirement already satisfied: setuptools in /usr/local/lib/python3.7/dist-packages (from chainer) (57.4.0)\n",
            "Requirement already satisfied: typing_extensions in /usr/local/lib/python3.7/dist-packages (from chainer) (3.10.0.2)\n",
            "Requirement already satisfied: filelock in /usr/local/lib/python3.7/dist-packages (from chainer) (3.4.2)\n",
            "Requirement already satisfied: numpy>=1.9.0 in /usr/local/lib/python3.7/dist-packages (from chainer) (1.19.5)\n",
            "Requirement already satisfied: protobuf>=3.0.0 in /usr/local/lib/python3.7/dist-packages (from chainer) (3.17.3)\n",
            "Requirement already satisfied: six>=1.9.0 in /usr/local/lib/python3.7/dist-packages (from chainer) (1.15.0)\n",
            "Building wheels for collected packages: chainer\n",
            "  Building wheel for chainer (setup.py) ... \u001b[?25l\u001b[?25hdone\n",
            "  Created wheel for chainer: filename=chainer-7.8.1-py3-none-any.whl size=967740 sha256=bafef32c26d081688f5defb810bb7979900dd9c934b657dbf466b8d63d719e04\n",
            "  Stored in directory: /root/.cache/pip/wheels/c8/6a/6f/fd563166cc597e5206e375ea074ea836e5db5dd58421215672\n",
            "Successfully built chainer\n",
            "Installing collected packages: chainer\n",
            "Successfully installed chainer-7.8.1\n"
          ]
        }
      ]
    },
    {
      "cell_type": "code",
      "execution_count": 14,
      "metadata": {
        "id": "3CY0JvyKiAuF"
      },
      "outputs": [],
      "source": [
        "import numpy as np\n",
        "import os\n",
        "import json\n",
        "\n",
        "from func.nets import vid_enc, vid_enc_vgg19\n",
        "from chainer import serializers\n",
        "\n",
        "import sys\n",
        "sys.path.append('script/')\n",
        "from summarize import get_flabel\n",
        "from func.sampling.vsum import VSUM\n",
        "\n",
        "import chainer\n",
        "from chainer import configuration"
      ]
    },
    {
      "cell_type": "code",
      "execution_count": 15,
      "metadata": {
        "id": "uhxtk3r2iAuI",
        "colab": {
          "base_uri": "https://localhost:8080/",
          "height": 379
        },
        "outputId": "4b5bdfd0-4095-49bc-892f-590bdfee3825"
      },
      "outputs": [
        {
          "output_type": "error",
          "ename": "FileNotFoundError",
          "evalue": "ignored",
          "traceback": [
            "\u001b[0;31m---------------------------------------------------------------------------\u001b[0m",
            "\u001b[0;31mFileNotFoundError\u001b[0m                         Traceback (most recent call last)",
            "\u001b[0;32m<ipython-input-15-9a81bcfc2cfe>\u001b[0m in \u001b[0;36m<module>\u001b[0;34m()\u001b[0m\n\u001b[1;32m      5\u001b[0m \u001b[0;32mif\u001b[0m \u001b[0mfeat_type\u001b[0m \u001b[0;34m==\u001b[0m \u001b[0;34m'smt_feat'\u001b[0m\u001b[0;34m:\u001b[0m\u001b[0;34m\u001b[0m\u001b[0;34m\u001b[0m\u001b[0m\n\u001b[1;32m      6\u001b[0m     \u001b[0mmodel\u001b[0m \u001b[0;34m=\u001b[0m \u001b[0mvid_enc\u001b[0m\u001b[0;34m.\u001b[0m\u001b[0mModel\u001b[0m\u001b[0;34m(\u001b[0m\u001b[0;34m)\u001b[0m\u001b[0;34m\u001b[0m\u001b[0;34m\u001b[0m\u001b[0m\n\u001b[0;32m----> 7\u001b[0;31m     \u001b[0mserializers\u001b[0m\u001b[0;34m.\u001b[0m\u001b[0mload_npz\u001b[0m\u001b[0;34m(\u001b[0m\u001b[0;34m'data/trained_model/model_par'\u001b[0m\u001b[0;34m,\u001b[0m \u001b[0mmodel\u001b[0m\u001b[0;34m)\u001b[0m\u001b[0;34m\u001b[0m\u001b[0;34m\u001b[0m\u001b[0m\n\u001b[0m\u001b[1;32m      8\u001b[0m \u001b[0;32melif\u001b[0m \u001b[0mfeat_type\u001b[0m \u001b[0;34m==\u001b[0m \u001b[0;34m'vgg'\u001b[0m\u001b[0;34m:\u001b[0m\u001b[0;34m\u001b[0m\u001b[0;34m\u001b[0m\u001b[0m\n\u001b[1;32m      9\u001b[0m     \u001b[0mmodel\u001b[0m \u001b[0;34m=\u001b[0m \u001b[0mvid_enc_vgg19\u001b[0m\u001b[0;34m.\u001b[0m\u001b[0mModel\u001b[0m\u001b[0;34m(\u001b[0m\u001b[0;34m)\u001b[0m\u001b[0;34m\u001b[0m\u001b[0;34m\u001b[0m\u001b[0m\n",
            "\u001b[0;32m/usr/local/lib/python3.7/dist-packages/chainer/serializers/npz.py\u001b[0m in \u001b[0;36mload_npz\u001b[0;34m(file, obj, path, strict, ignore_names)\u001b[0m\n\u001b[1;32m    238\u001b[0m \u001b[0;34m\u001b[0m\u001b[0m\n\u001b[1;32m    239\u001b[0m     \"\"\"\n\u001b[0;32m--> 240\u001b[0;31m     \u001b[0;32mwith\u001b[0m \u001b[0mnumpy\u001b[0m\u001b[0;34m.\u001b[0m\u001b[0mload\u001b[0m\u001b[0;34m(\u001b[0m\u001b[0mfile\u001b[0m\u001b[0;34m,\u001b[0m \u001b[0;34m**\u001b[0m\u001b[0m_allow_pickle_kwargs\u001b[0m\u001b[0;34m)\u001b[0m \u001b[0;32mas\u001b[0m \u001b[0mf\u001b[0m\u001b[0;34m:\u001b[0m\u001b[0;34m\u001b[0m\u001b[0;34m\u001b[0m\u001b[0m\n\u001b[0m\u001b[1;32m    241\u001b[0m         d = NpzDeserializer(\n\u001b[1;32m    242\u001b[0m             f, path=path, strict=strict, ignore_names=ignore_names)\n",
            "\u001b[0;32m/usr/local/lib/python3.7/dist-packages/numpy/lib/npyio.py\u001b[0m in \u001b[0;36mload\u001b[0;34m(file, mmap_mode, allow_pickle, fix_imports, encoding)\u001b[0m\n\u001b[1;32m    414\u001b[0m             \u001b[0mown_fid\u001b[0m \u001b[0;34m=\u001b[0m \u001b[0;32mFalse\u001b[0m\u001b[0;34m\u001b[0m\u001b[0;34m\u001b[0m\u001b[0m\n\u001b[1;32m    415\u001b[0m         \u001b[0;32melse\u001b[0m\u001b[0;34m:\u001b[0m\u001b[0;34m\u001b[0m\u001b[0;34m\u001b[0m\u001b[0m\n\u001b[0;32m--> 416\u001b[0;31m             \u001b[0mfid\u001b[0m \u001b[0;34m=\u001b[0m \u001b[0mstack\u001b[0m\u001b[0;34m.\u001b[0m\u001b[0menter_context\u001b[0m\u001b[0;34m(\u001b[0m\u001b[0mopen\u001b[0m\u001b[0;34m(\u001b[0m\u001b[0mos_fspath\u001b[0m\u001b[0;34m(\u001b[0m\u001b[0mfile\u001b[0m\u001b[0;34m)\u001b[0m\u001b[0;34m,\u001b[0m \u001b[0;34m\"rb\"\u001b[0m\u001b[0;34m)\u001b[0m\u001b[0;34m)\u001b[0m\u001b[0;34m\u001b[0m\u001b[0;34m\u001b[0m\u001b[0m\n\u001b[0m\u001b[1;32m    417\u001b[0m             \u001b[0mown_fid\u001b[0m \u001b[0;34m=\u001b[0m \u001b[0;32mTrue\u001b[0m\u001b[0;34m\u001b[0m\u001b[0;34m\u001b[0m\u001b[0m\n\u001b[1;32m    418\u001b[0m \u001b[0;34m\u001b[0m\u001b[0m\n",
            "\u001b[0;31mFileNotFoundError\u001b[0m: [Errno 2] No such file or directory: 'data/trained_model/model_par'"
          ]
        }
      ],
      "source": [
        "# settings\n",
        "feat_type = 'smt_feat' # smt_feat (proposed) or vgg\n",
        "\n",
        "# load embedding model\n",
        "if feat_type == 'smt_feat':\n",
        "    model = vid_enc.Model()\n",
        "    serializers.load_npz('data/trained_model/model_par', model)\n",
        "elif feat_type == 'vgg':\n",
        "    model = vid_enc_vgg19.Model()\n",
        "else:\n",
        "    raise RuntimeError('[invalid feat_type] use smt_feat or vgg')"
      ]
    },
    {
      "cell_type": "code",
      "execution_count": null,
      "metadata": {
        "id": "cuKLeEXjiAuJ",
        "outputId": "e8c0df47-85d0-499c-c7d7-b475827def3e"
      },
      "outputs": [
        {
          "name": "stdout",
          "output_type": "stream",
          "text": [
            "save to:  results/summe/smt_feat/\n"
          ]
        }
      ],
      "source": [
        "# prepair output dir\n",
        "d_name = 'summe'\n",
        "dataset_root = 'data/{}/'.format(d_name)\n",
        "out_dir = 'results/{:}/{:}/'.format(d_name, feat_type)\n",
        "print ('save to: ', out_dir)\n",
        "\n",
        "if not os.path.exists(out_dir):\n",
        "    os.makedirs(out_dir)"
      ]
    },
    {
      "cell_type": "code",
      "execution_count": null,
      "metadata": {
        "id": "cN3fNY8GiAuK",
        "outputId": "884931fe-2795-4528-9093-7b2f9ab075d4"
      },
      "outputs": [
        {
          "name": "stdout",
          "output_type": "stream",
          "text": [
            "Video list:\n",
            "- Kids_playing_in_leaves\n",
            "- playing_ball\n",
            "- Paintball\n",
            "- Cooking\n",
            "- Scuba\n",
            "- Cockpit_Landing\n",
            "- Fire Domino\n",
            "- Air_Force_One\n",
            "- Bus_in_Rock_Tunnel\n",
            "- Base jumping\n",
            "- Jumps\n",
            "- Saving dolphines\n",
            "- Bearpark_climbing\n",
            "- Uncut_Evening_Flight\n",
            "- Valparaiso_Downhill\n",
            "- Eiffel Tower\n",
            "- Excavators river crossing\n",
            "- St Maarten Landing\n",
            "- Playing_on_water_slide\n",
            "- Statue of Liberty\n",
            "- Car_railcrossing\n",
            "- paluma_jump\n",
            "- Notre_Dame\n",
            "- car_over_camera\n",
            "- Bike Polo\n"
          ]
        }
      ],
      "source": [
        "# load dataset metadata\n",
        "dataset = json.load(open(dataset_root + 'dataset.json'))\n",
        "video_id = [d['videoID'] for d in dataset]\n",
        "\n",
        "print ('Video list:')\n",
        "for vi in video_id:\n",
        "    print ('-', vi)"
      ]
    },
    {
      "cell_type": "code",
      "execution_count": null,
      "metadata": {
        "id": "WTHnBK5DiAuL",
        "outputId": "7d6eaae3-4bd5-46bb-b7d8-ddf1eed52b3d"
      },
      "outputs": [
        {
          "name": "stdout",
          "output_type": "stream",
          "text": [
            "load Cooking\n"
          ]
        },
        {
          "ename": "TypeError",
          "evalue": "'function' object is not subscriptable",
          "output_type": "error",
          "traceback": [
            "\u001b[1;31m---------------------------------------------------------------------------\u001b[0m",
            "\u001b[1;31mTypeError\u001b[0m                                 Traceback (most recent call last)",
            "\u001b[1;32m<ipython-input-5-11d699753de3>\u001b[0m in \u001b[0;36m<module>\u001b[1;34m()\u001b[0m\n\u001b[0;32m      4\u001b[0m \u001b[1;32mwith\u001b[0m \u001b[0mconfiguration\u001b[0m\u001b[1;33m.\u001b[0m\u001b[0musing_config\u001b[0m\u001b[1;33m(\u001b[0m\u001b[1;34m'train'\u001b[0m\u001b[1;33m,\u001b[0m \u001b[1;32mFalse\u001b[0m\u001b[1;33m)\u001b[0m\u001b[1;33m:\u001b[0m\u001b[1;33m\u001b[0m\u001b[0m\n\u001b[0;32m      5\u001b[0m     \u001b[1;32mwith\u001b[0m \u001b[0mchainer\u001b[0m\u001b[1;33m.\u001b[0m\u001b[0mno_backprop_mode\u001b[0m\u001b[1;33m(\u001b[0m\u001b[1;33m)\u001b[0m\u001b[1;33m:\u001b[0m\u001b[1;33m\u001b[0m\u001b[0m\n\u001b[1;32m----> 6\u001b[1;33m         \u001b[0mvsum\u001b[0m \u001b[1;33m=\u001b[0m \u001b[0mVSUM\u001b[0m\u001b[1;33m(\u001b[0m\u001b[0mv_id\u001b[0m\u001b[1;33m,\u001b[0m \u001b[0mmodel\u001b[0m\u001b[1;33m,\u001b[0m \u001b[0mdataset\u001b[0m\u001b[1;33m=\u001b[0m\u001b[0md_name\u001b[0m\u001b[1;33m,\u001b[0m \u001b[0mseg_l\u001b[0m\u001b[1;33m=\u001b[0m\u001b[1;36m5\u001b[0m\u001b[1;33m)\u001b[0m\u001b[1;33m\u001b[0m\u001b[0m\n\u001b[0m\u001b[0;32m      7\u001b[0m \u001b[1;33m\u001b[0m\u001b[0m\n\u001b[0;32m      8\u001b[0m \u001b[0m_\u001b[0m\u001b[1;33m,\u001b[0m \u001b[0mframes\u001b[0m\u001b[1;33m,\u001b[0m \u001b[0m_\u001b[0m \u001b[1;33m=\u001b[0m \u001b[0mvsum\u001b[0m\u001b[1;33m.\u001b[0m\u001b[0msummarizeRep\u001b[0m\u001b[1;33m(\u001b[0m\u001b[0mseg_l\u001b[0m\u001b[1;33m=\u001b[0m\u001b[1;36m5\u001b[0m\u001b[1;33m,\u001b[0m \u001b[0mweights\u001b[0m\u001b[1;33m=\u001b[0m\u001b[1;33m[\u001b[0m\u001b[1;36m1.0\u001b[0m\u001b[1;33m,\u001b[0m \u001b[1;36m0.0\u001b[0m\u001b[1;33m]\u001b[0m\u001b[1;33m)\u001b[0m\u001b[1;33m\u001b[0m\u001b[0m\n",
            "\u001b[1;32m~\\Desktop\\vsum_dsf\\func\\sampling\\vsum.py\u001b[0m in \u001b[0;36m__init__\u001b[1;34m(self, videoID, model, dataset, featType, seg_l)\u001b[0m\n\u001b[0;32m     19\u001b[0m \u001b[1;33m\u001b[0m\u001b[0m\n\u001b[0;32m     20\u001b[0m         \u001b[1;31m# budget 15% of orig\u001b[0m\u001b[1;33m\u001b[0m\u001b[1;33m\u001b[0m\u001b[0m\n\u001b[1;32m---> 21\u001b[1;33m         \u001b[0mself\u001b[0m\u001b[1;33m.\u001b[0m\u001b[0mbudget\u001b[0m \u001b[1;33m=\u001b[0m \u001b[0mint\u001b[0m\u001b[1;33m(\u001b[0m\u001b[1;36m0.15\u001b[0m \u001b[1;33m*\u001b[0m \u001b[0mself\u001b[0m\u001b[1;33m.\u001b[0m\u001b[0mdataset\u001b[0m\u001b[1;33m.\u001b[0m\u001b[0mdata\u001b[0m\u001b[1;33m[\u001b[0m\u001b[1;34m'length'\u001b[0m\u001b[1;33m]\u001b[0m \u001b[1;33m/\u001b[0m \u001b[0mseg_l\u001b[0m\u001b[1;33m)\u001b[0m\u001b[1;33m\u001b[0m\u001b[0m\n\u001b[0m\u001b[0;32m     22\u001b[0m         \u001b[0mprint\u001b[0m \u001b[1;33m(\u001b[0m\u001b[1;34m'budget: '\u001b[0m\u001b[1;33m,\u001b[0m \u001b[0mself\u001b[0m\u001b[1;33m.\u001b[0m\u001b[0mbudget\u001b[0m\u001b[1;33m)\u001b[0m\u001b[1;33m\u001b[0m\u001b[0m\n\u001b[0;32m     23\u001b[0m \u001b[1;33m\u001b[0m\u001b[0m\n",
            "\u001b[1;31mTypeError\u001b[0m: 'function' object is not subscriptable"
          ]
        }
      ],
      "source": [
        "# summarize video\n",
        "v_id = 'Cooking'\n",
        "\n",
        "with configuration.using_config('train', False):\n",
        "    with chainer.no_backprop_mode():\n",
        "        vsum = VSUM(v_id, model, dataset=d_name, seg_l=5)\n",
        "\n",
        "_, frames, _ = vsum.summarizeRep(seg_l=5, weights=[1.0, 0.0])\n",
        "\n",
        "# get 0/1 label for each frame\n",
        "fps = vsum.dataset.data['fps']\n",
        "fnum = vsum.dataset.data['fnum']\n",
        "label = get_flabel(frames, fnum, fps, seg_l=5)"
      ]
    },
    {
      "cell_type": "code",
      "execution_count": null,
      "metadata": {
        "id": "RlZz8WptiAuL",
        "outputId": "2c4e3766-d03a-47ff-8940-c28f9080fbe1"
      },
      "outputs": [
        {
          "name": "stdout",
          "output_type": "stream",
          "text": [
            "writing video to sum_Cooking.mp4\n"
          ]
        }
      ],
      "source": [
        "# write summarized video\n",
        "from skvideo.io import vread, vwrite\n",
        "\n",
        "video_path = 'C:/Users/admin/Desktop/vsum_dsf/data/summe/SumMe/videos/%s.webm' % v_id\n",
        "\n",
        "video_data = vread(video_path)\n",
        "#sum_vid = video_data[label.ravel().astype(np.bool), :,:,:]\n",
        "\n",
        "print ('writing video to', 'sum_%s.mp4'%v_id)\n",
        "vwrite('sum_%s.mp4'%v_id, video_data)"
      ]
    },
    {
      "cell_type": "code",
      "execution_count": null,
      "metadata": {
        "id": "E4Ueh5gwiAuM"
      },
      "outputs": [],
      "source": [
        ""
      ]
    }
  ],
  "metadata": {
    "anaconda-cloud": {},
    "kernelspec": {
      "display_name": "Python 3",
      "language": "python",
      "name": "python3"
    },
    "language_info": {
      "codemirror_mode": {
        "name": "ipython",
        "version": 3
      },
      "file_extension": ".py",
      "mimetype": "text/x-python",
      "name": "python",
      "nbconvert_exporter": "python",
      "pygments_lexer": "ipython3",
      "version": "3.6.4"
    },
    "colab": {
      "name": "Demo.ipynb",
      "provenance": [],
      "collapsed_sections": [],
      "include_colab_link": true
    }
  },
  "nbformat": 4,
  "nbformat_minor": 0
}