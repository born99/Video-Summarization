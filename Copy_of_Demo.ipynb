{
  "cells": [
    {
      "cell_type": "markdown",
      "metadata": {
        "id": "view-in-github",
        "colab_type": "text"
      },
      "source": [
        "<a href=\"https://colab.research.google.com/github/born99/Video-Summarization/blob/master/Copy_of_Demo.ipynb\" target=\"_parent\"><img src=\"https://colab.research.google.com/assets/colab-badge.svg\" alt=\"Open In Colab\"/></a>"
      ]
    },
    {
      "cell_type": "code",
      "source": [
        "from google.colab import drive \n",
        "drive.mount('/content/drive')"
      ],
      "metadata": {
        "id": "ahOvHbSqiuPB",
        "outputId": "9233c988-effe-4766-bc8a-af637c0299ac",
        "colab": {
          "base_uri": "https://localhost:8080/"
        }
      },
      "execution_count": 1,
      "outputs": [
        {
          "output_type": "stream",
          "name": "stdout",
          "text": [
            "Mounted at /content/drive\n"
          ]
        }
      ]
    },
    {
      "cell_type": "code",
      "source": [
        "!pwd\n",
        "import os\n",
        "os.chdir('/content/drive/My Drive/Video-Summarization')\n",
        "\n",
        "!pip install chainer\n",
        "!pip install functools"
      ],
      "metadata": {
        "id": "EbMf_rt1lKln",
        "outputId": "4adde95b-b825-4494-b434-55dcafa74790",
        "colab": {
          "base_uri": "https://localhost:8080/"
        }
      },
      "execution_count": 2,
      "outputs": [
        {
          "output_type": "stream",
          "name": "stdout",
          "text": [
            "/content\n",
            "Collecting chainer\n",
            "  Downloading chainer-7.8.1.tar.gz (1.0 MB)\n",
            "\u001b[K     |████████████████████████████████| 1.0 MB 3.7 MB/s \n",
            "\u001b[?25hRequirement already satisfied: setuptools in /usr/local/lib/python3.7/dist-packages (from chainer) (57.4.0)\n",
            "Requirement already satisfied: typing_extensions in /usr/local/lib/python3.7/dist-packages (from chainer) (3.10.0.2)\n",
            "Requirement already satisfied: filelock in /usr/local/lib/python3.7/dist-packages (from chainer) (3.4.2)\n",
            "Requirement already satisfied: numpy>=1.9.0 in /usr/local/lib/python3.7/dist-packages (from chainer) (1.19.5)\n",
            "Requirement already satisfied: protobuf>=3.0.0 in /usr/local/lib/python3.7/dist-packages (from chainer) (3.17.3)\n",
            "Requirement already satisfied: six>=1.9.0 in /usr/local/lib/python3.7/dist-packages (from chainer) (1.15.0)\n",
            "Building wheels for collected packages: chainer\n",
            "  Building wheel for chainer (setup.py) ... \u001b[?25l\u001b[?25hdone\n",
            "  Created wheel for chainer: filename=chainer-7.8.1-py3-none-any.whl size=967740 sha256=49bbc00e6af9b60f749764cf4ea094029ba79de69c49742ec6fd26070bf0bebd\n",
            "  Stored in directory: /root/.cache/pip/wheels/c8/6a/6f/fd563166cc597e5206e375ea074ea836e5db5dd58421215672\n",
            "Successfully built chainer\n",
            "Installing collected packages: chainer\n",
            "Successfully installed chainer-7.8.1\n",
            "Collecting functools\n",
            "  Downloading functools-0.5.tar.gz (4.9 kB)\n",
            "Building wheels for collected packages: functools\n",
            "  Building wheel for functools (setup.py) ... \u001b[?25lerror\n",
            "\u001b[31m  ERROR: Failed building wheel for functools\u001b[0m\n",
            "\u001b[?25h  Running setup.py clean for functools\n",
            "Failed to build functools\n",
            "Installing collected packages: functools\n",
            "    Running setup.py install for functools ... \u001b[?25l\u001b[?25herror\n",
            "\u001b[31mERROR: Command errored out with exit status 1: /usr/bin/python3 -u -c 'import io, os, sys, setuptools, tokenize; sys.argv[0] = '\"'\"'/tmp/pip-install-mepkr9mi/functools_7d4e50bf96b24fe7bb9df2daa158dc20/setup.py'\"'\"'; __file__='\"'\"'/tmp/pip-install-mepkr9mi/functools_7d4e50bf96b24fe7bb9df2daa158dc20/setup.py'\"'\"';f = getattr(tokenize, '\"'\"'open'\"'\"', open)(__file__) if os.path.exists(__file__) else io.StringIO('\"'\"'from setuptools import setup; setup()'\"'\"');code = f.read().replace('\"'\"'\\r\\n'\"'\"', '\"'\"'\\n'\"'\"');f.close();exec(compile(code, __file__, '\"'\"'exec'\"'\"'))' install --record /tmp/pip-record-5qw5ar87/install-record.txt --single-version-externally-managed --compile --install-headers /usr/local/include/python3.7/functools Check the logs for full command output.\u001b[0m\n"
          ]
        }
      ]
    },
    {
      "cell_type": "code",
      "execution_count": 3,
      "metadata": {
        "id": "3CY0JvyKiAuF",
        "colab": {
          "base_uri": "https://localhost:8080/"
        },
        "outputId": "8eb02a3e-3b29-4a9d-b601-deb510ff776b"
      },
      "outputs": [
        {
          "output_type": "stream",
          "name": "stdout",
          "text": [
            "/bin/bash: import: command not found\n"
          ]
        }
      ],
      "source": [
        "!import numpy as np\n",
        "import os\n",
        "import json\n",
        "\n",
        "from func.nets import vid_enc, vid_enc_vgg19\n",
        "from chainer import serializers\n",
        "\n",
        "import sys\n",
        "sys.path.append('script/')\n",
        "from summarize import get_flabel\n",
        "from func.sampling.vsum import VSUM\n",
        "\n",
        "import chainer\n",
        "from chainer import configuration"
      ]
    },
    {
      "cell_type": "code",
      "execution_count": 4,
      "metadata": {
        "id": "uhxtk3r2iAuI",
        "colab": {
          "base_uri": "https://localhost:8080/"
        },
        "outputId": "abe6c1fd-9615-46e7-b030-9f6df45cd0ff"
      },
      "outputs": [
        {
          "output_type": "stream",
          "name": "stdout",
          "text": [
            "/content/drive/MyDrive/Video-Summarization\n"
          ]
        }
      ],
      "source": [
        "!pwd\n",
        "# settings\n",
        "feat_type = 'smt_feat' # smt_feat (proposed) or vgg\n",
        "\n",
        "# load embedding model\n",
        "if feat_type == 'smt_feat':\n",
        "    model = vid_enc.Model()\n",
        "    serializers.load_npz('data/trained_model/model_par', model)\n",
        "elif feat_type == 'vgg':\n",
        "    model = vid_enc_vgg19.Model()\n",
        "else:\n",
        "    raise RuntimeError('[invalid feat_type] use smt_feat or vgg')"
      ]
    },
    {
      "cell_type": "code",
      "execution_count": 5,
      "metadata": {
        "id": "cuKLeEXjiAuJ",
        "outputId": "c14cd0f0-320c-4114-8288-0a5912656a33",
        "colab": {
          "base_uri": "https://localhost:8080/"
        }
      },
      "outputs": [
        {
          "output_type": "stream",
          "name": "stdout",
          "text": [
            "save to:  results/summe/smt_feat/\n"
          ]
        }
      ],
      "source": [
        "# prepair output dir\n",
        "d_name = 'summe'\n",
        "dataset_root = 'data/{}/'.format(d_name)\n",
        "out_dir = 'results/{:}/{:}/'.format(d_name, feat_type)\n",
        "print ('save to: ', out_dir)\n",
        "\n",
        "if not os.path.exists(out_dir):\n",
        "    os.makedirs(out_dir)"
      ]
    },
    {
      "cell_type": "code",
      "execution_count": 6,
      "metadata": {
        "id": "cN3fNY8GiAuK",
        "outputId": "b7287b49-2e24-4265-bcc0-62f790707d19",
        "colab": {
          "base_uri": "https://localhost:8080/"
        }
      },
      "outputs": [
        {
          "output_type": "stream",
          "name": "stdout",
          "text": [
            "Video list:\n",
            "- Cooking\n"
          ]
        }
      ],
      "source": [
        "# load dataset metadata\n",
        "dataset = json.load(open(dataset_root + 'dataset.json'))\n",
        "video_id = [d['videoID'] for d in dataset]\n",
        "\n",
        "print ('Video list:')\n",
        "for vi in video_id:\n",
        "    print ('-', vi)"
      ]
    },
    {
      "cell_type": "code",
      "execution_count": 7,
      "metadata": {
        "id": "WTHnBK5DiAuL",
        "outputId": "031053a4-929e-4b7f-a30d-3a12e4ed494e",
        "colab": {
          "base_uri": "https://localhost:8080/",
          "height": 553
        }
      },
      "outputs": [
        {
          "output_type": "stream",
          "name": "stdout",
          "text": [
            "loading Cooking\n",
            "budget:  2\n",
            "[[ 0.         0.         0.        ...  6.789039   0.         0.955371 ]\n",
            " [12.70352    0.         0.        ...  2.812302   0.         0.       ]\n",
            " [ 9.723458   0.         0.        ...  0.         0.         6.175164 ]\n",
            " ...\n",
            " [ 6.3901405  0.         0.        ...  0.         2.5943449  0.       ]\n",
            " [ 0.         0.         0.        ...  0.         0.         0.       ]\n",
            " [ 2.8705516  0.         0.        ...  0.         0.         0.       ]]\n",
            "[]\n"
          ]
        },
        {
          "output_type": "error",
          "ename": "TypeError",
          "evalue": "ignored",
          "traceback": [
            "\u001b[0;31m---------------------------------------------------------------------------\u001b[0m",
            "\u001b[0;31mTypeError\u001b[0m                                 Traceback (most recent call last)",
            "\u001b[0;32m<ipython-input-7-11d699753de3>\u001b[0m in \u001b[0;36m<module>\u001b[0;34m()\u001b[0m\n\u001b[1;32m      4\u001b[0m \u001b[0;32mwith\u001b[0m \u001b[0mconfiguration\u001b[0m\u001b[0;34m.\u001b[0m\u001b[0musing_config\u001b[0m\u001b[0;34m(\u001b[0m\u001b[0;34m'train'\u001b[0m\u001b[0;34m,\u001b[0m \u001b[0;32mFalse\u001b[0m\u001b[0;34m)\u001b[0m\u001b[0;34m:\u001b[0m\u001b[0;34m\u001b[0m\u001b[0;34m\u001b[0m\u001b[0m\n\u001b[1;32m      5\u001b[0m     \u001b[0;32mwith\u001b[0m \u001b[0mchainer\u001b[0m\u001b[0;34m.\u001b[0m\u001b[0mno_backprop_mode\u001b[0m\u001b[0;34m(\u001b[0m\u001b[0;34m)\u001b[0m\u001b[0;34m:\u001b[0m\u001b[0;34m\u001b[0m\u001b[0;34m\u001b[0m\u001b[0m\n\u001b[0;32m----> 6\u001b[0;31m         \u001b[0mvsum\u001b[0m \u001b[0;34m=\u001b[0m \u001b[0mVSUM\u001b[0m\u001b[0;34m(\u001b[0m\u001b[0mv_id\u001b[0m\u001b[0;34m,\u001b[0m \u001b[0mmodel\u001b[0m\u001b[0;34m,\u001b[0m \u001b[0mdataset\u001b[0m\u001b[0;34m=\u001b[0m\u001b[0md_name\u001b[0m\u001b[0;34m,\u001b[0m \u001b[0mseg_l\u001b[0m\u001b[0;34m=\u001b[0m\u001b[0;36m5\u001b[0m\u001b[0;34m)\u001b[0m\u001b[0;34m\u001b[0m\u001b[0;34m\u001b[0m\u001b[0m\n\u001b[0m\u001b[1;32m      7\u001b[0m \u001b[0;34m\u001b[0m\u001b[0m\n\u001b[1;32m      8\u001b[0m \u001b[0m_\u001b[0m\u001b[0;34m,\u001b[0m \u001b[0mframes\u001b[0m\u001b[0;34m,\u001b[0m \u001b[0m_\u001b[0m \u001b[0;34m=\u001b[0m \u001b[0mvsum\u001b[0m\u001b[0;34m.\u001b[0m\u001b[0msummarizeRep\u001b[0m\u001b[0;34m(\u001b[0m\u001b[0mseg_l\u001b[0m\u001b[0;34m=\u001b[0m\u001b[0;36m5\u001b[0m\u001b[0;34m,\u001b[0m \u001b[0mweights\u001b[0m\u001b[0;34m=\u001b[0m\u001b[0;34m[\u001b[0m\u001b[0;36m1.0\u001b[0m\u001b[0;34m,\u001b[0m \u001b[0;36m0.0\u001b[0m\u001b[0;34m]\u001b[0m\u001b[0;34m)\u001b[0m\u001b[0;34m\u001b[0m\u001b[0;34m\u001b[0m\u001b[0m\n",
            "\u001b[0;32m/content/drive/MyDrive/Video-Summarization/func/sampling/vsum.py\u001b[0m in \u001b[0;36m__init__\u001b[0;34m(self, videoID, model, dataset, featType, seg_l)\u001b[0m\n\u001b[1;32m     25\u001b[0m \u001b[0;34m\u001b[0m\u001b[0m\n\u001b[1;32m     26\u001b[0m         \u001b[0;31m# embed video segments\u001b[0m\u001b[0;34m\u001b[0m\u001b[0;34m\u001b[0m\u001b[0;34m\u001b[0m\u001b[0m\n\u001b[0;32m---> 27\u001b[0;31m         \u001b[0mseg_feat\u001b[0m \u001b[0;34m=\u001b[0m \u001b[0mencodeSeg\u001b[0m\u001b[0;34m(\u001b[0m\u001b[0mself\u001b[0m\u001b[0;34m.\u001b[0m\u001b[0mdataset\u001b[0m\u001b[0;34m,\u001b[0m \u001b[0mmodel\u001b[0m\u001b[0;34m,\u001b[0m \u001b[0mseg_size\u001b[0m\u001b[0;34m=\u001b[0m\u001b[0mseg_l\u001b[0m\u001b[0;34m)\u001b[0m\u001b[0;34m\u001b[0m\u001b[0;34m\u001b[0m\u001b[0m\n\u001b[0m\u001b[1;32m     28\u001b[0m \u001b[0;34m\u001b[0m\u001b[0m\n\u001b[1;32m     29\u001b[0m         \u001b[0;31m# store segment features\u001b[0m\u001b[0;34m\u001b[0m\u001b[0;34m\u001b[0m\u001b[0;34m\u001b[0m\u001b[0m\n",
            "\u001b[0;32m/content/drive/MyDrive/Video-Summarization/func/sampling/vsum.py\u001b[0m in \u001b[0;36mencodeSeg\u001b[0;34m(data, model, seg_size)\u001b[0m\n\u001b[1;32m     79\u001b[0m     \u001b[0msegs\u001b[0m \u001b[0;34m=\u001b[0m \u001b[0;34m[\u001b[0m\u001b[0mimg_id\u001b[0m\u001b[0;34m[\u001b[0m\u001b[0mi\u001b[0m\u001b[0;34m:\u001b[0m\u001b[0mi\u001b[0m \u001b[0;34m+\u001b[0m \u001b[0mseg_size\u001b[0m\u001b[0;34m]\u001b[0m \u001b[0;32mfor\u001b[0m \u001b[0mi\u001b[0m \u001b[0;32min\u001b[0m \u001b[0mrange\u001b[0m\u001b[0;34m(\u001b[0m\u001b[0mlen\u001b[0m\u001b[0;34m(\u001b[0m\u001b[0mimg_id\u001b[0m\u001b[0;34m)\u001b[0m \u001b[0;34m-\u001b[0m \u001b[0mseg_size\u001b[0m \u001b[0;34m+\u001b[0m \u001b[0;36m1\u001b[0m\u001b[0;34m)\u001b[0m\u001b[0;34m]\u001b[0m\u001b[0;34m\u001b[0m\u001b[0;34m\u001b[0m\u001b[0m\n\u001b[1;32m     80\u001b[0m     \u001b[0mprint\u001b[0m\u001b[0;34m(\u001b[0m\u001b[0msegs\u001b[0m\u001b[0;34m)\u001b[0m\u001b[0;34m\u001b[0m\u001b[0;34m\u001b[0m\u001b[0m\n\u001b[0;32m---> 81\u001b[0;31m     \u001b[0msegs\u001b[0m \u001b[0;34m=\u001b[0m \u001b[0mreduce\u001b[0m\u001b[0;34m(\u001b[0m\u001b[0;32mlambda\u001b[0m \u001b[0mx\u001b[0m\u001b[0;34m,\u001b[0m \u001b[0my\u001b[0m\u001b[0;34m:\u001b[0m \u001b[0mx\u001b[0m \u001b[0;34m+\u001b[0m \u001b[0my\u001b[0m\u001b[0;34m,\u001b[0m \u001b[0msegs\u001b[0m\u001b[0;34m)\u001b[0m\u001b[0;34m\u001b[0m\u001b[0;34m\u001b[0m\u001b[0m\n\u001b[0m\u001b[1;32m     82\u001b[0m \u001b[0;34m\u001b[0m\u001b[0m\n\u001b[1;32m     83\u001b[0m     \u001b[0mx\u001b[0m \u001b[0;34m=\u001b[0m \u001b[0mfeat\u001b[0m\u001b[0;34m[\u001b[0m\u001b[0msegs\u001b[0m\u001b[0;34m]\u001b[0m\u001b[0;34m\u001b[0m\u001b[0;34m\u001b[0m\u001b[0m\n",
            "\u001b[0;31mTypeError\u001b[0m: reduce() of empty sequence with no initial value"
          ]
        }
      ],
      "source": [
        "# summarize video\n",
        "v_id = 'Cooking'\n",
        "\n",
        "with configuration.using_config('train', False):\n",
        "    with chainer.no_backprop_mode():\n",
        "        vsum = VSUM(v_id, model, dataset=d_name, seg_l=5)\n",
        "\n",
        "_, frames, _ = vsum.summarizeRep(seg_l=5, weights=[1.0, 0.0])\n",
        "\n",
        "# get 0/1 label for each frame\n",
        "fps = vsum.dataset.data['fps']\n",
        "fnum = vsum.dataset.data['fnum']\n",
        "label = get_flabel(frames, fnum, fps, seg_l=5)"
      ]
    },
    {
      "cell_type": "code",
      "execution_count": null,
      "metadata": {
        "id": "RlZz8WptiAuL"
      },
      "outputs": [],
      "source": [
        "# write summarized video\n",
        "from skvideo.io import vread, vwrite\n",
        "\n",
        "video_path = 'C:/Users/admin/Desktop/vsum_dsf/data/summe/SumMe/videos/%s.webm' % v_id\n",
        "\n",
        "video_data = vread(video_path)\n",
        "#sum_vid = video_data[label.ravel().astype(np.bool), :,:,:]\n",
        "\n",
        "print ('writing video to', 'sum_%s.mp4'%v_id)\n",
        "vwrite('sum_%s.mp4'%v_id, video_data)"
      ]
    },
    {
      "cell_type": "code",
      "execution_count": null,
      "metadata": {
        "id": "E4Ueh5gwiAuM"
      },
      "outputs": [],
      "source": [
        ""
      ]
    }
  ],
  "metadata": {
    "anaconda-cloud": {},
    "kernelspec": {
      "display_name": "Python 3",
      "language": "python",
      "name": "python3"
    },
    "language_info": {
      "codemirror_mode": {
        "name": "ipython",
        "version": 3
      },
      "file_extension": ".py",
      "mimetype": "text/x-python",
      "name": "python",
      "nbconvert_exporter": "python",
      "pygments_lexer": "ipython3",
      "version": "3.6.4"
    },
    "colab": {
      "name": "Copy of Demo.ipynb",
      "provenance": [],
      "collapsed_sections": [],
      "include_colab_link": true
    }
  },
  "nbformat": 4,
  "nbformat_minor": 0
}