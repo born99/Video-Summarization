{
  "cells": [
    {
      "cell_type": "markdown",
      "metadata": {
        "id": "view-in-github",
        "colab_type": "text"
      },
      "source": [
        "<a href=\"https://colab.research.google.com/github/born99/Video-Summarization/blob/master/Copy_of_Demo.ipynb\" target=\"_parent\"><img src=\"https://colab.research.google.com/assets/colab-badge.svg\" alt=\"Open In Colab\"/></a>"
      ]
    },
    {
      "cell_type": "code",
      "source": [
        "from google.colab import drive \n",
        "drive.mount('/content/drive')"
      ],
      "metadata": {
        "id": "ahOvHbSqiuPB",
        "outputId": "a61c2b78-791b-4e90-a747-ebc2af4b1198",
        "colab": {
          "base_uri": "https://localhost:8080/"
        }
      },
      "execution_count": null,
      "outputs": [
        {
          "output_type": "stream",
          "name": "stdout",
          "text": [
            "Mounted at /content/drive\n"
          ]
        }
      ]
    },
    {
      "cell_type": "code",
      "source": [
        "!pwd\n",
        "import os\n",
        "os.chdir('/content/drive/My Drive/Video-Summarization')\n",
        "\n",
        "!pip install chainer"
      ],
      "metadata": {
        "id": "EbMf_rt1lKln",
        "outputId": "6b37c099-74ca-4583-c91a-81577935d68a",
        "colab": {
          "base_uri": "https://localhost:8080/"
        }
      },
      "execution_count": null,
      "outputs": [
        {
          "output_type": "stream",
          "name": "stdout",
          "text": [
            "/content/drive/MyDrive/Video-Summarization\n",
            "Requirement already satisfied: chainer in /usr/local/lib/python3.7/dist-packages (7.8.1)\n",
            "Requirement already satisfied: typing-extensions in /usr/local/lib/python3.7/dist-packages (from chainer) (3.10.0.2)\n",
            "Requirement already satisfied: setuptools in /usr/local/lib/python3.7/dist-packages (from chainer) (57.4.0)\n",
            "Requirement already satisfied: six>=1.9.0 in /usr/local/lib/python3.7/dist-packages (from chainer) (1.15.0)\n",
            "Requirement already satisfied: protobuf>=3.0.0 in /usr/local/lib/python3.7/dist-packages (from chainer) (3.17.3)\n",
            "Requirement already satisfied: numpy>=1.9.0 in /usr/local/lib/python3.7/dist-packages (from chainer) (1.19.5)\n",
            "Requirement already satisfied: filelock in /usr/local/lib/python3.7/dist-packages (from chainer) (3.4.2)\n"
          ]
        }
      ]
    },
    {
      "cell_type": "code",
      "execution_count": null,
      "metadata": {
        "id": "3CY0JvyKiAuF"
      },
      "outputs": [],
      "source": [
        "import numpy as np\n",
        "import os\n",
        "import json\n",
        "\n",
        "from func.nets import vid_enc, vid_enc_vgg19\n",
        "from chainer import serializers\n",
        "\n",
        "import sys\n",
        "sys.path.append('script/')\n",
        "from summarize import get_flabel\n",
        "from func.sampling.vsum import VSUM\n",
        "\n",
        "import chainer\n",
        "from chainer import configuration"
      ]
    },
    {
      "cell_type": "code",
      "execution_count": null,
      "metadata": {
        "id": "uhxtk3r2iAuI",
        "colab": {
          "base_uri": "https://localhost:8080/"
        },
        "outputId": "4680d614-76b8-41fd-be1e-861592760110"
      },
      "outputs": [
        {
          "output_type": "stream",
          "name": "stdout",
          "text": [
            "/content/drive/MyDrive/Video-Summarization\n"
          ]
        }
      ],
      "source": [
        "!pwd\n",
        "# settings\n",
        "feat_type = 'smt_feat' # smt_feat (proposed) or vgg\n",
        "\n",
        "# load embedding model\n",
        "if feat_type == 'smt_feat':\n",
        "    model = vid_enc.Model()\n",
        "    serializers.load_npz('data/trained_model/model_par', model)\n",
        "elif feat_type == 'vgg':\n",
        "    model = vid_enc_vgg19.Model()\n",
        "else:\n",
        "    raise RuntimeError('[invalid feat_type] use smt_feat or vgg')"
      ]
    },
    {
      "cell_type": "code",
      "execution_count": null,
      "metadata": {
        "id": "cuKLeEXjiAuJ",
        "outputId": "6f3264dd-4a63-49e6-91df-d776468083c9",
        "colab": {
          "base_uri": "https://localhost:8080/"
        }
      },
      "outputs": [
        {
          "output_type": "stream",
          "name": "stdout",
          "text": [
            "save to:  results/summe/smt_feat/\n"
          ]
        }
      ],
      "source": [
        "# prepair output dir\n",
        "d_name = 'summe'\n",
        "dataset_root = 'data/{}/'.format(d_name)\n",
        "out_dir = 'results/{:}/{:}/'.format(d_name, feat_type)\n",
        "print ('save to: ', out_dir)\n",
        "\n",
        "if not os.path.exists(out_dir):\n",
        "    os.makedirs(out_dir)"
      ]
    },
    {
      "cell_type": "code",
      "execution_count": null,
      "metadata": {
        "id": "cN3fNY8GiAuK",
        "outputId": "bd9d7a71-2633-4dd6-d473-18a555a499e1",
        "colab": {
          "base_uri": "https://localhost:8080/"
        }
      },
      "outputs": [
        {
          "output_type": "stream",
          "name": "stdout",
          "text": [
            "Video list:\n",
            "- Kids_playing_in_leaves\n",
            "- playing_ball\n",
            "- Paintball\n",
            "- Cooking\n",
            "- Scuba\n",
            "- Cockpit_Landing\n",
            "- Fire Domino\n",
            "- Air_Force_One\n",
            "- Bus_in_Rock_Tunnel\n",
            "- Base jumping\n",
            "- Jumps\n",
            "- Saving dolphines\n",
            "- Bearpark_climbing\n",
            "- Uncut_Evening_Flight\n",
            "- Valparaiso_Downhill\n",
            "- Eiffel Tower\n",
            "- Excavators river crossing\n",
            "- St Maarten Landing\n",
            "- Playing_on_water_slide\n",
            "- Statue of Liberty\n",
            "- Car_railcrossing\n",
            "- paluma_jump\n",
            "- Notre_Dame\n",
            "- car_over_camera\n",
            "- Bike Polo\n"
          ]
        }
      ],
      "source": [
        "# load dataset metadata\n",
        "dataset = json.load(open(dataset_root + 'dataset.json'))\n",
        "video_id = [d['videoID'] for d in dataset]\n",
        "\n",
        "print ('Video list:')\n",
        "for vi in video_id:\n",
        "    print ('-', vi)"
      ]
    },
    {
      "cell_type": "code",
      "execution_count": 51,
      "metadata": {
        "id": "WTHnBK5DiAuL",
        "outputId": "4856d813-06a5-40b0-9f70-e12c89144ad9",
        "colab": {
          "base_uri": "https://localhost:8080/",
          "height": 373
        }
      },
      "outputs": [
        {
          "output_type": "stream",
          "name": "stdout",
          "text": [
            "load Cooking\n"
          ]
        },
        {
          "output_type": "error",
          "ename": "TypeError",
          "evalue": "ignored",
          "traceback": [
            "\u001b[0;31m---------------------------------------------------------------------------\u001b[0m",
            "\u001b[0;31mTypeError\u001b[0m                                 Traceback (most recent call last)",
            "\u001b[0;32m<ipython-input-51-11d699753de3>\u001b[0m in \u001b[0;36m<module>\u001b[0;34m()\u001b[0m\n\u001b[1;32m      4\u001b[0m \u001b[0;32mwith\u001b[0m \u001b[0mconfiguration\u001b[0m\u001b[0;34m.\u001b[0m\u001b[0musing_config\u001b[0m\u001b[0;34m(\u001b[0m\u001b[0;34m'train'\u001b[0m\u001b[0;34m,\u001b[0m \u001b[0;32mFalse\u001b[0m\u001b[0;34m)\u001b[0m\u001b[0;34m:\u001b[0m\u001b[0;34m\u001b[0m\u001b[0;34m\u001b[0m\u001b[0m\n\u001b[1;32m      5\u001b[0m     \u001b[0;32mwith\u001b[0m \u001b[0mchainer\u001b[0m\u001b[0;34m.\u001b[0m\u001b[0mno_backprop_mode\u001b[0m\u001b[0;34m(\u001b[0m\u001b[0;34m)\u001b[0m\u001b[0;34m:\u001b[0m\u001b[0;34m\u001b[0m\u001b[0;34m\u001b[0m\u001b[0m\n\u001b[0;32m----> 6\u001b[0;31m         \u001b[0mvsum\u001b[0m \u001b[0;34m=\u001b[0m \u001b[0mVSUM\u001b[0m\u001b[0;34m(\u001b[0m\u001b[0mv_id\u001b[0m\u001b[0;34m,\u001b[0m \u001b[0mmodel\u001b[0m\u001b[0;34m,\u001b[0m \u001b[0mdataset\u001b[0m\u001b[0;34m=\u001b[0m\u001b[0md_name\u001b[0m\u001b[0;34m,\u001b[0m \u001b[0mseg_l\u001b[0m\u001b[0;34m=\u001b[0m\u001b[0;36m5\u001b[0m\u001b[0;34m)\u001b[0m\u001b[0;34m\u001b[0m\u001b[0;34m\u001b[0m\u001b[0m\n\u001b[0m\u001b[1;32m      7\u001b[0m \u001b[0;34m\u001b[0m\u001b[0m\n\u001b[1;32m      8\u001b[0m \u001b[0m_\u001b[0m\u001b[0;34m,\u001b[0m \u001b[0mframes\u001b[0m\u001b[0;34m,\u001b[0m \u001b[0m_\u001b[0m \u001b[0;34m=\u001b[0m \u001b[0mvsum\u001b[0m\u001b[0;34m.\u001b[0m\u001b[0msummarizeRep\u001b[0m\u001b[0;34m(\u001b[0m\u001b[0mseg_l\u001b[0m\u001b[0;34m=\u001b[0m\u001b[0;36m5\u001b[0m\u001b[0;34m,\u001b[0m \u001b[0mweights\u001b[0m\u001b[0;34m=\u001b[0m\u001b[0;34m[\u001b[0m\u001b[0;36m1.0\u001b[0m\u001b[0;34m,\u001b[0m \u001b[0;36m0.0\u001b[0m\u001b[0;34m]\u001b[0m\u001b[0;34m)\u001b[0m\u001b[0;34m\u001b[0m\u001b[0;34m\u001b[0m\u001b[0m\n",
            "\u001b[0;32m/content/drive/MyDrive/Video-Summarization/func/sampling/vsum.py\u001b[0m in \u001b[0;36m__init__\u001b[0;34m(self, videoID, model, dataset, featType, seg_l)\u001b[0m\n\u001b[1;32m     19\u001b[0m         \u001b[0ma\u001b[0m \u001b[0;34m=\u001b[0m \u001b[0mSUMME\u001b[0m\u001b[0;34m(\u001b[0m\u001b[0mvideoId\u001b[0m\u001b[0;34m)\u001b[0m\u001b[0;34m\u001b[0m\u001b[0;34m\u001b[0m\u001b[0m\n\u001b[1;32m     20\u001b[0m         \u001b[0;31m# budget 15% of orig\u001b[0m\u001b[0;34m\u001b[0m\u001b[0;34m\u001b[0m\u001b[0;34m\u001b[0m\u001b[0m\n\u001b[0;32m---> 21\u001b[0;31m         \u001b[0mself\u001b[0m\u001b[0;34m.\u001b[0m\u001b[0mbudget\u001b[0m \u001b[0;34m=\u001b[0m \u001b[0mint\u001b[0m\u001b[0;34m(\u001b[0m\u001b[0;36m0.15\u001b[0m \u001b[0;34m*\u001b[0m \u001b[0ma\u001b[0m\u001b[0;34m.\u001b[0m\u001b[0mdata\u001b[0m\u001b[0;34m[\u001b[0m\u001b[0;34m'length'\u001b[0m\u001b[0;34m]\u001b[0m \u001b[0;34m/\u001b[0m \u001b[0mseg_l\u001b[0m\u001b[0;34m)\u001b[0m\u001b[0;34m\u001b[0m\u001b[0;34m\u001b[0m\u001b[0m\n\u001b[0m\u001b[1;32m     22\u001b[0m         \u001b[0mprint\u001b[0m \u001b[0;34m(\u001b[0m\u001b[0;34m'budget: '\u001b[0m\u001b[0;34m,\u001b[0m \u001b[0mself\u001b[0m\u001b[0;34m.\u001b[0m\u001b[0mbudget\u001b[0m\u001b[0;34m)\u001b[0m\u001b[0;34m\u001b[0m\u001b[0;34m\u001b[0m\u001b[0m\n\u001b[1;32m     23\u001b[0m \u001b[0;34m\u001b[0m\u001b[0m\n",
            "\u001b[0;31mTypeError\u001b[0m: 'function' object is not subscriptable"
          ]
        }
      ],
      "source": [
        "# summarize video\n",
        "v_id = 'Cooking'\n",
        "\n",
        "with configuration.using_config('train', False):\n",
        "    with chainer.no_backprop_mode():\n",
        "        vsum = VSUM(v_id, model, dataset=d_name, seg_l=5)\n",
        "\n",
        "_, frames, _ = vsum.summarizeRep(seg_l=5, weights=[1.0, 0.0])\n",
        "\n",
        "# get 0/1 label for each frame\n",
        "fps = vsum.dataset.data['fps']\n",
        "fnum = vsum.dataset.data['fnum']\n",
        "label = get_flabel(frames, fnum, fps, seg_l=5)"
      ]
    },
    {
      "cell_type": "code",
      "execution_count": null,
      "metadata": {
        "id": "RlZz8WptiAuL",
        "outputId": "2c4e3766-d03a-47ff-8940-c28f9080fbe1"
      },
      "outputs": [
        {
          "name": "stdout",
          "output_type": "stream",
          "text": [
            "writing video to sum_Cooking.mp4\n"
          ]
        }
      ],
      "source": [
        "# write summarized video\n",
        "from skvideo.io import vread, vwrite\n",
        "\n",
        "video_path = 'C:/Users/admin/Desktop/vsum_dsf/data/summe/SumMe/videos/%s.webm' % v_id\n",
        "\n",
        "video_data = vread(video_path)\n",
        "#sum_vid = video_data[label.ravel().astype(np.bool), :,:,:]\n",
        "\n",
        "print ('writing video to', 'sum_%s.mp4'%v_id)\n",
        "vwrite('sum_%s.mp4'%v_id, video_data)"
      ]
    },
    {
      "cell_type": "code",
      "execution_count": null,
      "metadata": {
        "id": "E4Ueh5gwiAuM"
      },
      "outputs": [],
      "source": [
        ""
      ]
    }
  ],
  "metadata": {
    "anaconda-cloud": {},
    "kernelspec": {
      "display_name": "Python 3",
      "language": "python",
      "name": "python3"
    },
    "language_info": {
      "codemirror_mode": {
        "name": "ipython",
        "version": 3
      },
      "file_extension": ".py",
      "mimetype": "text/x-python",
      "name": "python",
      "nbconvert_exporter": "python",
      "pygments_lexer": "ipython3",
      "version": "3.6.4"
    },
    "colab": {
      "name": "Copy of Demo.ipynb",
      "provenance": [],
      "collapsed_sections": [],
      "include_colab_link": true
    }
  },
  "nbformat": 4,
  "nbformat_minor": 0
}